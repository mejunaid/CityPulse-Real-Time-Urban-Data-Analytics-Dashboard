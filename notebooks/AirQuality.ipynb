{
 "cells": [
  {
   "cell_type": "code",
   "execution_count": 1,
   "id": "4cd47b3c-38d9-4267-bc44-247df68659e7",
   "metadata": {},
   "outputs": [],
   "source": [
    "import pandas as pd\n",
    "import matplotlib.pyplot as plt\n",
    "import seaborn as sns\n",
    "from datetime import datetime\n"
   ]
  },
  {
   "cell_type": "code",
   "execution_count": null,
   "id": "e763ea9b-7153-48ec-bdaf-f4daa65ceaeb",
   "metadata": {},
   "outputs": [],
   "source": [
    "df = pd.read_csv('../data/raw/delhi_aqi.csv')\n",
    "df['datetime'] = pd.to_datetime(df['date.utc'])\n"
   ]
  },
  {
   "cell_type": "code",
   "execution_count": null,
   "id": "0c288533-fd3d-469c-9915-7dfc7cd621fc",
   "metadata": {},
   "outputs": [],
   "source": [
    "print(df.head())\n",
    "print(df.info())\n",
    "print(df['parameter'].value_counts())"
   ]
  },
  {
   "cell_type": "code",
   "execution_count": null,
   "id": "ed87d49f-d4fd-4fd7-9792-9f3189dfc812",
   "metadata": {},
   "outputs": [],
   "source": [
    "avg_pollution = df.groupby('location')['value'].mean().sort_values(ascending=False)\n",
    "plt.figure(figsize=(10,6))\n",
    "sns.barplot(x=avg_pollution.values, y=avg_pollution.index, palette='coolwarm')\n",
    "plt.title('Average Pollution by Location')\n",
    "plt.xlabel('Average Value')\n",
    "plt.ylabel('Location')\n",
    "plt.show()"
   ]
  },
  {
   "cell_type": "code",
   "execution_count": null,
   "id": "85af53e6-3d98-4887-ad74-67be800be8cf",
   "metadata": {},
   "outputs": [],
   "source": [
    "pm25_df = df[df['parameter'] == 'pm25']\n",
    "pm25_trend = pm25_df.groupby(pm25_df['datetime'].dt.hour)['value'].mean()\n",
    "\n",
    "plt.figure(figsize=(10, 4))\n",
    "pm25_trend.plot(marker='o')\n",
    "plt.title('PM2.5 Levels by Hour of Day')\n",
    "plt.xlabel('Hour')\n",
    "plt.ylabel('PM2.5')\n",
    "plt.grid(True)\n",
    "plt.show()\n"
   ]
  },
  {
   "cell_type": "code",
   "execution_count": null,
   "id": "0abeed5b-4b88-4ca2-9536-9b76a5cf0524",
   "metadata": {},
   "outputs": [],
   "source": [
    "print(df.isnull().sum())"
   ]
  },
  {
   "cell_type": "code",
   "execution_count": null,
   "id": "ac80c6fc-a39b-43d5-9ece-388242f5ffb2",
   "metadata": {},
   "outputs": [],
   "source": []
  }
 ],
 "metadata": {
  "kernelspec": {
   "display_name": "Python [conda env:base] *",
   "language": "python",
   "name": "conda-base-py"
  },
  "language_info": {
   "codemirror_mode": {
    "name": "ipython",
    "version": 3
   },
   "file_extension": ".py",
   "mimetype": "text/x-python",
   "name": "python",
   "nbconvert_exporter": "python",
   "pygments_lexer": "ipython3",
   "version": "3.12.7"
  }
 },
 "nbformat": 4,
 "nbformat_minor": 5
}
