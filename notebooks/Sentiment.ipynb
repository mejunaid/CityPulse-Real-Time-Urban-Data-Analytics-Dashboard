{
 "cells": [
  {
   "cell_type": "code",
   "execution_count": null,
   "id": "80d53e8a-c58d-4f93-9490-653a2dd81e33",
   "metadata": {},
   "outputs": [],
   "source": [
    "# notebooks/EDA_Sentiment.ipynb\n",
    "\n",
    "import pandas as pd\n",
    "import seaborn as sns\n",
    "import matplotlib.pyplot as plt\n",
    "\n",
    "df = pd.read_csv('../data/raw/India.csv')\n",
    "\n",
    "# Sentiment distribution\n",
    "sns.countplot(x='sentiment', data=df, palette='pastel')\n",
    "plt.title('Sentiment Distribution')\n",
    "plt.show()\n",
    "\n",
    "# Sentiment by location\n",
    "plt.figure(figsize=(10,5))\n",
    "sns.countplot(x='location', hue='sentiment', data=df, palette='viridis')\n",
    "plt.title('Sentiment by Location')\n",
    "plt.xticks(rotation=45)\n",
    "plt.tight_layout()\n",
    "plt.show()\n",
    "\n",
    "# Word cloud (optional extension)\n",
    "# from wordcloud import WordCloud\n",
    "# text = ' '.join(df['tweet_text'])\n",
    "# wordcloud = WordCloud(background_color='white').generate(text)\n",
    "# plt.imshow(wordcloud, interpolation='bilinear')\n",
    "# plt.axis('off')\n",
    "# plt.show()\n"
   ]
  }
 ],
 "metadata": {
  "kernelspec": {
   "display_name": "Python [conda env:base] *",
   "language": "python",
   "name": "conda-base-py"
  },
  "language_info": {
   "codemirror_mode": {
    "name": "ipython",
    "version": 3
   },
   "file_extension": ".py",
   "mimetype": "text/x-python",
   "name": "python",
   "nbconvert_exporter": "python",
   "pygments_lexer": "ipython3",
   "version": "3.12.7"
  }
 },
 "nbformat": 4,
 "nbformat_minor": 5
}
