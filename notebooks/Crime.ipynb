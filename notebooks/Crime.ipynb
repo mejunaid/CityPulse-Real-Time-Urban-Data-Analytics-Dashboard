{
 "cells": [
  {
   "cell_type": "code",
   "execution_count": null,
   "id": "4b14ede3-e248-4ab7-a4d4-d3b107d818f0",
   "metadata": {},
   "outputs": [],
   "source": [
    "# notebooks/EDA_Crime.ipynb\n",
    "\n",
    "import pandas as pd\n",
    "import seaborn as sns\n",
    "import matplotlib.pyplot as plt\n",
    "\n",
    "df = pd.read_csv('../data/raw/crime_dataset_india.csv')\n"
   ]
  },
  {
   "cell_type": "code",
   "execution_count": null,
   "id": "263de34c-277f-4d48-887f-f5b31acf8661",
   "metadata": {},
   "outputs": [],
   "source": [
    "# Crime frequency by type\n",
    "plt.figure(figsize=(8,4))\n",
    "sns.countplot(x='crime_type', data=df, palette='Set2')\n",
    "plt.title('Crime Type Frequency')\n",
    "plt.show()\n"
   ]
  },
  {
   "cell_type": "code",
   "execution_count": null,
   "id": "7149ce79-804b-4de5-816f-cf0e89019faf",
   "metadata": {},
   "outputs": [],
   "source": [
    "# Crime heat by location\n",
    "plt.figure(figsize=(8,4))\n",
    "sns.countplot(x='location', hue='crime_type', data=df)\n",
    "plt.title('Crime Type by Location')\n",
    "plt.xticks(rotation=45)\n",
    "plt.tight_layout()\n",
    "plt.show()"
   ]
  },
  {
   "cell_type": "code",
   "execution_count": null,
   "id": "488c399c-6ef3-4aa4-98e2-b519b4ae7b84",
   "metadata": {},
   "outputs": [],
   "source": [
    "# Severity distribution\n",
    "sns.histplot(df['severity'], bins=5, kde=True)\n",
    "plt.title('Crime Severity Distribution')\n",
    "plt.show()"
   ]
  }
 ],
 "metadata": {
  "kernelspec": {
   "display_name": "Python [conda env:base] *",
   "language": "python",
   "name": "conda-base-py"
  },
  "language_info": {
   "codemirror_mode": {
    "name": "ipython",
    "version": 3
   },
   "file_extension": ".py",
   "mimetype": "text/x-python",
   "name": "python",
   "nbconvert_exporter": "python",
   "pygments_lexer": "ipython3",
   "version": "3.12.7"
  }
 },
 "nbformat": 4,
 "nbformat_minor": 5
}
